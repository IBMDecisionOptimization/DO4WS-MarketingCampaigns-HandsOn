{
 "cells": [
  {
   "cell_type": "code",
   "execution_count": 2,
   "metadata": {},
   "outputs": [],
   "source": [
    "# @hidden_cell\n",
    "# The project token is an authorization token that is used to access project resources like data sources, connections, and used by platform APIs.\n",
    "from project_lib import Project\n",
    "project = Project(project_id='xxxxxxxxxxxx', project_access_token='xxxxxxxxxxxxxxxxxxx')\n",
    "pc = project.project_context\n"
   ]
  },
  {
   "cell_type": "markdown",
   "metadata": {
    "collapsed": true
   },
   "source": [
    "### Connect to scenarios\n",
    "\n",
    "We use the dd_scenario Python package to connect to scenario from notebooks. \n",
    "\n",
    "Here we open the  \"Marketing Small\" model builder, and connect to \"Scenario 1\" in it."
   ]
  },
  {
   "cell_type": "code",
   "execution_count": 3,
   "metadata": {},
   "outputs": [
    {
     "name": "stdout",
     "output_type": "stream",
     "text": [
      "Collecting dd-scenario\n",
      "  Downloading https://files.pythonhosted.org/packages/78/b4/f3b3af827f52a9eb88dc2a3efbf7f2899c8772f1ab74986732973e936242/dd_scenario-0.9.1.zip\n",
      "Requirement already satisfied: requests in /opt/conda/envs/Python36/lib/python3.6/site-packages (from dd-scenario) (2.21.0)\n",
      "Requirement already satisfied: six in /opt/conda/envs/Python36/lib/python3.6/site-packages (from dd-scenario) (1.12.0)\n",
      "Requirement already satisfied: idna<2.9,>=2.5 in /opt/conda/envs/Python36/lib/python3.6/site-packages (from requests->dd-scenario) (2.8)\n",
      "Requirement already satisfied: urllib3<1.25,>=1.21.1 in /opt/conda/envs/Python36/lib/python3.6/site-packages (from requests->dd-scenario) (1.24.1)\n",
      "Requirement already satisfied: chardet<3.1.0,>=3.0.2 in /opt/conda/envs/Python36/lib/python3.6/site-packages (from requests->dd-scenario) (3.0.4)\n",
      "Requirement already satisfied: certifi>=2017.4.17 in /opt/conda/envs/Python36/lib/python3.6/site-packages (from requests->dd-scenario) (2019.6.16)\n",
      "Building wheels for collected packages: dd-scenario\n",
      "  Building wheel for dd-scenario (setup.py) ... \u001b[?25ldone\n",
      "\u001b[?25h  Stored in directory: /home/dsxuser/.cache/pip/wheels/a4/b7/eb/476ae215c219b48c04120791760ee9595bd4ab3218d59fd4d2\n",
      "Successfully built dd-scenario\n",
      "Installing collected packages: dd-scenario\n",
      "Successfully installed dd-scenario-0.9.1\n"
     ]
    }
   ],
   "source": [
    "!pip install --user dd-scenario"
   ]
  },
  {
   "cell_type": "code",
   "execution_count": 6,
   "metadata": {},
   "outputs": [
    {
     "name": "stdout",
     "output_type": "stream",
     "text": [
      "{\n",
      "   \"qualifiers\": [\n",
      "      {\n",
      "         \"name\": \"modelType\",\n",
      "         \"value\": \"python\"\n",
      "      },\n",
      "      {\n",
      "         \"name\": \"modelMetadata\",\n",
      "         \"value\": \"{\\\"notebookId\\\":\\\"63eb86c9-0021-4052-8ad4-e69373370232\\\",\\\"notebookName\\\":\\\"MarketingSmall.jupyter\\\",\\\"lastUploadTime\\\":1565788515769}\"\n",
      "      }\n",
      "   ],\n",
      "   \"name\": \"Scenario 1\",\n",
      "   \"description\": \"\",\n",
      "   \"category\": \"scenario\",\n",
      "   \"readOnly\": false,\n",
      "   \"creator\": \"IBMid-50XQXBW697\",\n",
      "   \"createdAt\": 1565788449000,\n",
      "   \"usage\": {\n",
      "      \"lastModificationTime\": 1565788573000,\n",
      "      \"lastModifier\": \"IBMid-50XQXBW697\"\n",
      "   },\n",
      "   \"dataUsagePerCategory\": {\n",
      "      \"input\": {\n",
      "         \"lastModificationTime\": 1565788463377,\n",
      "         \"lastModifier\": \"Alain.Chabrier@ibm.com\"\n",
      "      },\n",
      "      \"model\": {\n",
      "         \"lastModificationTime\": 1565788515191,\n",
      "         \"lastModifier\": \"Alain.Chabrier@ibm.com\"\n",
      "      },\n",
      "      \"output\": {\n",
      "         \"lastModificationTime\": 1565788572763,\n",
      "         \"lastModifier\": \"b57bddbd-790b-46a2-ad32-1e7c206a7e83\"\n",
      "      }\n",
      "   },\n",
      "   \"parent_id\": \"MarketingSmall\"\n",
      "}\n"
     ]
    }
   ],
   "source": [
    "from dd_scenario import *\n",
    "\n",
    "client = Client(pc=pc, apikey=\"xxxxxxxxxxxxxxx\")\n",
    "decision = client.get_model_builder(name=\"MarketingSmall\")\n",
    "scenario = decision.get_scenario(name=\"Scenario 1\")\n",
    "\n",
    "print (scenario)"
   ]
  },
  {
   "cell_type": "markdown",
   "metadata": {},
   "source": [
    "### Random functions\n",
    "\n",
    "We create a few function to create random data for a given size "
   ]
  },
  {
   "cell_type": "code",
   "execution_count": 7,
   "metadata": {},
   "outputs": [],
   "source": [
    "import random\n",
    "import numpy as np\n",
    "import pandas as pd\n",
    "\n",
    "\n",
    "def random_customer( ncustomers ):\n",
    "    data = []\n",
    "    for cu in range(ncustomers):\n",
    "        data.append(['Customer ' + str(cu+1), random.randint(2, 5)])\n",
    "    df = pd.DataFrame(data=data, columns= ['id', 'age'])\n",
    "    return df"
   ]
  },
  {
   "cell_type": "code",
   "execution_count": 8,
   "metadata": {},
   "outputs": [],
   "source": [
    "def random_campaign( ncampaigns ):\n",
    "    data = []\n",
    "    for ca in range(ncampaigns):\n",
    "        data.append(['Campaign ' + str(ca+1), random.randint(2, 5)])\n",
    "    df = pd.DataFrame(data=data, columns= ['id', 'max customers'])\n",
    "    return df\n"
   ]
  },
  {
   "cell_type": "code",
   "execution_count": 9,
   "metadata": {},
   "outputs": [],
   "source": [
    "def random_candidate( ncustomers, ncampaigns ):\n",
    "    data = []\n",
    "    for cu in range(ncustomers):\n",
    "        for ca in range(ncampaigns):\n",
    "            data.append(['Customer ' + str(cu+1), 'Campaign ' + str(ca+1), random.randint(30, 70)])\n",
    "    df = pd.DataFrame(data=data, columns= ['Customer', 'Campaign', 'expected value'])\n",
    "    return df"
   ]
  },
  {
   "cell_type": "markdown",
   "metadata": {},
   "source": [
    "## Generate scenarios\n",
    "\n",
    "We do the following steps:\n",
    "* delete copy if already exist\n",
    "* copy the original scenario,\n",
    "* change the data\n",
    "* and solve it\n"
   ]
  },
  {
   "cell_type": "code",
   "execution_count": 11,
   "metadata": {},
   "outputs": [
    {
     "name": "stdout",
     "output_type": "stream",
     "text": [
      "Copy 03\n",
      " Copying from original scenario...\n",
      " Generating new inputs...\n",
      " Solving...\n",
      "Copy 04\n",
      " Copying from original scenario...\n",
      " Generating new inputs...\n",
      " Solving...\n",
      "Copy 05\n",
      " Copying from original scenario...\n",
      " Generating new inputs...\n",
      " Solving...\n",
      "Copy 06\n",
      " Copying from original scenario...\n",
      " Generating new inputs...\n",
      " Solving...\n",
      "Copy 07\n",
      " Copying from original scenario...\n",
      " Generating new inputs...\n",
      " Solving...\n",
      "Done!\n"
     ]
    }
   ],
   "source": [
    "N_SCENARIOS = 5\n",
    "\n",
    "for s in range(3, N_SCENARIOS+3):\n",
    "    \n",
    "    sc_name = \"Copy %02d\" % (s)\n",
    "    print (sc_name)\n",
    "    copy = decision.get_scenario(name=sc_name)\n",
    "    if (copy != None):\n",
    "        print (\" Deleting old...\")\n",
    "        decision.delete_container(copy)\n",
    "    print (\" Copying from original scenario...\")\n",
    "    copy = scenario.copy(sc_name)\n",
    "    \n",
    "    print (\" Generating new inputs...\")\n",
    "    copy.add_table_data(\"customer\", random_customer(s), category='input')\n",
    "    copy.add_table_data(\"campaign\", random_campaign(s), category='input')\n",
    "    copy.add_table_data(\"candidate\", random_candidate(s, s), category='input')\n",
    "    \n",
    "    print (\" Solving...\")\n",
    "    copy.solve()    \n",
    "    \n",
    "print (\"Done!\")"
   ]
  },
  {
   "cell_type": "code",
   "execution_count": null,
   "metadata": {
    "collapsed": true
   },
   "outputs": [],
   "source": []
  }
 ],
 "metadata": {
  "kernelspec": {
   "display_name": "Python 3.6",
   "language": "python",
   "name": "python3"
  },
  "language_info": {
   "codemirror_mode": {
    "name": "ipython",
    "version": 3
   },
   "file_extension": ".py",
   "mimetype": "text/x-python",
   "name": "python",
   "nbconvert_exporter": "python",
   "pygments_lexer": "ipython3",
   "version": "3.6.8"
  }
 },
 "nbformat": 4,
 "nbformat_minor": 2
}
